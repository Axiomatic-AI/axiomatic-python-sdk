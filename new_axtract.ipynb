{
 "cells": [
  {
   "cell_type": "markdown",
   "metadata": {},
   "source": [
    "We begin with standard imports of Axiomatic clients and choose the file we want to digitalize. Please, provide either a path or a url of the file."
   ]
  },
  {
   "cell_type": "code",
   "execution_count": 1,
   "metadata": {},
   "outputs": [],
   "source": [
    "from axiomatic import Axiomatic\n",
    "from src.axiomatic.client import AxtractHelper\n",
    "ax_client = Axiomatic(timeout=100000, api_key=\"2d702671-4b31-4174-a88e-087a02e3c29a\")\n",
    "\n",
    "axtract = AxtractHelper(ax_client)\n",
    "\n",
    "file = \"https://storage.googleapis.com/ax-example-papers-pdf-storage/public/axtract_mechanics.pdf\"\n"
   ]
  },
  {
   "cell_type": "markdown",
   "metadata": {},
   "source": [
    "We now send the paper to our analyzing tool"
   ]
  },
  {
   "cell_type": "code",
   "execution_count": 2,
   "metadata": {},
   "outputs": [],
   "source": [
    "loaded_eqautions = axtract.analyze_equations(url_path=file)"
   ]
  },
  {
   "cell_type": "markdown",
   "metadata": {},
   "source": [
    "Once the document is analyzed, we can create a html report to preview the results, as well, as see the relation graph of the document. Please select the path you want your report to be stored. By default it will be stored in this directory"
   ]
  },
  {
   "cell_type": "code",
   "execution_count": 4,
   "metadata": {},
   "outputs": [],
   "source": [
    "axtract.create_report(loaded_eqautions, \"./report.html\")"
   ]
  },
  {
   "cell_type": "markdown",
   "metadata": {},
   "source": [
    "Now, if we want to perform numercial calculations on the extracted equations, we can use our interactive table tool. The idea behind it is the following: The user chooses the quantities/variables of their interest by clicking Add Requirement as many times as all variables of interest are selected. The user can also save the configuration of your requirements.\n",
    "\n"
   ]
  },
  {
   "cell_type": "code",
   "execution_count": null,
   "metadata": {},
   "outputs": [],
   "source": [
    "user_choice = axtract.set_numerical_requirements(loaded_eqautions)\n"
   ]
  },
  {
   "cell_type": "markdown",
   "metadata": {},
   "source": [
    "Later, after the user provides numerical values of each of the variables and clicks Submit button, Axiomatic Math engine will look for all equations that are relevant for the given set of variable/requirements. The system will return the comprehensive description of the results. If given numerical values are contradictory, the user will be informed about that."
   ]
  },
  {
   "cell_type": "code",
   "execution_count": null,
   "metadata": {},
   "outputs": [],
   "source": [
    "axtract.validate_equations(user_choice[0], loaded_eqautions)"
   ]
  }
 ],
 "metadata": {
  "kernelspec": {
   "display_name": "axiomatic",
   "language": "python",
   "name": "python3"
  },
  "language_info": {
   "codemirror_mode": {
    "name": "ipython",
    "version": 3
   },
   "file_extension": ".py",
   "mimetype": "text/x-python",
   "name": "python",
   "nbconvert_exporter": "python",
   "pygments_lexer": "ipython3",
   "version": "3.13.0"
  }
 },
 "nbformat": 4,
 "nbformat_minor": 2
}
