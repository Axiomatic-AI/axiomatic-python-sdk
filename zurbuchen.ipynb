{
 "cells": [
  {
   "cell_type": "code",
   "execution_count": 1,
   "metadata": {},
   "outputs": [],
   "source": [
    "from axiomatic import Axiomatic\n",
    "from src.axiomatic.client import AxtractHelper\n",
    "ax_client = Axiomatic(timeout=100000, api_key=\"2d702671-4b31-4174-a88e-087a02e3c29a\")\n",
    "\n",
    "axtract_helper = AxtractHelper(ax_client)\n",
    "\n",
    "# client_db =axtract_helper.analyze_equations(file_path=\"./test_axai.pdf\")\n",
    "\n",
    "# import pickle\n",
    "\n",
    "# # Save client_db to a pickle file\n",
    "# with open('client_db.pkl', 'wb') as f:\n",
    "#     pickle.dump(client_db, f)\n"
   ]
  },
  {
   "cell_type": "code",
   "execution_count": 2,
   "metadata": {},
   "outputs": [],
   "source": [
    "\n",
    "import pickle\n",
    "#To verify it worked, you can load it back\n",
    "with open('client_db.pkl', 'rb') as f:\n",
    "    client_db = pickle.load(f)"
   ]
  },
  {
   "cell_type": "code",
   "execution_count": 3,
   "metadata": {},
   "outputs": [
    {
     "data": {
      "application/vnd.jupyter.widget-view+json": {
       "model_id": "7bcd3108176c4fa090a40b32d00cb1ad",
       "version_major": 2,
       "version_minor": 0
      },
      "text/plain": [
       "Dropdown(description='Select Option:', options=('Select a template', 'IMAGING TELESCOPE', 'IMAGING TELESCOPE t…"
      ]
     },
     "metadata": {},
     "output_type": "display_data"
    },
    {
     "data": {
      "application/vnd.jupyter.widget-view+json": {
       "model_id": "b2691f1c6325452d9586c1bec7e0b823",
       "version_major": 2,
       "version_minor": 0
      },
      "text/plain": [
       "VBox()"
      ]
     },
     "metadata": {},
     "output_type": "display_data"
    },
    {
     "data": {
      "application/vnd.jupyter.widget-view+json": {
       "model_id": "b26cbe34e10b46acb433992ffdc4ba3f",
       "version_major": 2,
       "version_minor": 0
      },
      "text/plain": [
       "Output()"
      ]
     },
     "metadata": {},
     "output_type": "display_data"
    },
    {
     "data": {
      "application/vnd.jupyter.widget-view+json": {
       "model_id": "0f64a219a9db47eeaeb64a1a8040ce44",
       "version_major": 2,
       "version_minor": 0
      },
      "text/plain": [
       "HBox(children=(Button(button_style='success', description='Submit', style=ButtonStyle()), Button(button_style=…"
      ]
     },
     "metadata": {},
     "output_type": "display_data"
    },
    {
     "name": "stderr",
     "output_type": "stream",
     "text": [
      "/opt/anaconda3/envs/axiomatic/lib/python3.13/site-packages/traitlets/traitlets.py:1385: DeprecationWarning: Passing unrecognized arguments to super(FloatText).__init__(placeholder='Value').\n",
      "object.__init__() takes exactly one argument (the instance to initialize)\n",
      "This is deprecated in traitlets 4.2.This error will be raised in a future release of traitlets.\n",
      "  warn(\n"
     ]
    }
   ],
   "source": [
    "user_choice = axtract_helper.set_numerical_requirements(client_db)"
   ]
  },
  {
   "cell_type": "code",
   "execution_count": 4,
   "metadata": {},
   "outputs": [
    {
     "ename": "UnprocessableEntityError",
     "evalue": "status_code: 422, body: detail=[ValidationError(loc=['body'], msg='Input should be a valid dictionary or object to extract fields from', type='model_attributes_type', input=[{'symbol': '\\\\mathrm{NA}', 'name': 'Numerical Aperture', 'value': 0.0, 'units': '', 'tolerance': 0.0}])]",
     "output_type": "error",
     "traceback": [
      "\u001b[0;31m---------------------------------------------------------------------------\u001b[0m",
      "\u001b[0;31mUnprocessableEntityError\u001b[0m                  Traceback (most recent call last)",
      "Cell \u001b[0;32mIn[4], line 1\u001b[0m\n\u001b[0;32m----> 1\u001b[0m response \u001b[38;5;241m=\u001b[39m \u001b[43maxtract_helper\u001b[49m\u001b[38;5;241;43m.\u001b[39;49m\u001b[43mvalidate_equations\u001b[49m\u001b[43m(\u001b[49m\u001b[43muser_choice\u001b[49m\u001b[43m[\u001b[49m\u001b[38;5;241;43m0\u001b[39;49m\u001b[43m]\u001b[49m\u001b[43m,\u001b[49m\u001b[43m \u001b[49m\u001b[43mclient_db\u001b[49m\u001b[43m)\u001b[49m\n",
      "File \u001b[0;32m/opt/anaconda3/envs/axiomatic/lib/python3.13/site-packages/axiomatic/client.py:83\u001b[0m, in \u001b[0;36mAxtractHelper.validate_equations\u001b[0;34m(self, requirements, loaded_equations, show_hypergraph)\u001b[0m\n\u001b[1;32m     75\u001b[0m api_requirements \u001b[38;5;241m=\u001b[39m [\n\u001b[1;32m     76\u001b[0m     ApiVariableRequirement(\n\u001b[1;32m     77\u001b[0m         symbol\u001b[38;5;241m=\u001b[39mreq\u001b[38;5;241m.\u001b[39msymbol, name\u001b[38;5;241m=\u001b[39mreq\u001b[38;5;241m.\u001b[39mname, value\u001b[38;5;241m=\u001b[39mreq\u001b[38;5;241m.\u001b[39mvalue, units\u001b[38;5;241m=\u001b[39mreq\u001b[38;5;241m.\u001b[39munits, tolerance\u001b[38;5;241m=\u001b[39mreq\u001b[38;5;241m.\u001b[39mtolerance\n\u001b[1;32m     78\u001b[0m     )\n\u001b[1;32m     79\u001b[0m     \u001b[38;5;28;01mfor\u001b[39;00m req \u001b[38;5;129;01min\u001b[39;00m requirements\n\u001b[1;32m     80\u001b[0m ]\n\u001b[1;32m     82\u001b[0m variable_dict \u001b[38;5;241m=\u001b[39m _create_variable_dict(loaded_equations)\n\u001b[0;32m---> 83\u001b[0m api_response \u001b[38;5;241m=\u001b[39m \u001b[38;5;28;43mself\u001b[39;49m\u001b[38;5;241;43m.\u001b[39;49m\u001b[43m_ax_client\u001b[49m\u001b[38;5;241;43m.\u001b[39;49m\u001b[43mdocument\u001b[49m\u001b[38;5;241;43m.\u001b[39;49m\u001b[43mequation\u001b[49m\u001b[38;5;241;43m.\u001b[39;49m\u001b[43mvalidate\u001b[49m\u001b[43m(\u001b[49m\u001b[43mrequest\u001b[49m\u001b[38;5;241;43m=\u001b[39;49m\u001b[43mapi_requirements\u001b[49m\u001b[43m)\u001b[49m\n\u001b[1;32m     84\u001b[0m display_full_results(api_response\u001b[38;5;241m.\u001b[39mmodel_dump(), variable_dict, show_hypergraph\u001b[38;5;241m=\u001b[39mshow_hypergraph)\n",
      "File \u001b[0;32m/opt/anaconda3/envs/axiomatic/lib/python3.13/site-packages/axiomatic/document/equation/client.py:126\u001b[0m, in \u001b[0;36mEquationClient.validate\u001b[0;34m(self, request, request_options)\u001b[0m\n\u001b[1;32m    118\u001b[0m         \u001b[38;5;28;01mreturn\u001b[39;00m typing\u001b[38;5;241m.\u001b[39mcast(\n\u001b[1;32m    119\u001b[0m             EquationValidationResult,\n\u001b[1;32m    120\u001b[0m             parse_obj_as(\n\u001b[0;32m   (...)\u001b[0m\n\u001b[1;32m    123\u001b[0m             ),\n\u001b[1;32m    124\u001b[0m         )\n\u001b[1;32m    125\u001b[0m     \u001b[38;5;28;01mif\u001b[39;00m _response\u001b[38;5;241m.\u001b[39mstatus_code \u001b[38;5;241m==\u001b[39m \u001b[38;5;241m422\u001b[39m:\n\u001b[0;32m--> 126\u001b[0m         \u001b[38;5;28;01mraise\u001b[39;00m UnprocessableEntityError(\n\u001b[1;32m    127\u001b[0m             typing\u001b[38;5;241m.\u001b[39mcast(\n\u001b[1;32m    128\u001b[0m                 HttpValidationError,\n\u001b[1;32m    129\u001b[0m                 parse_obj_as(\n\u001b[1;32m    130\u001b[0m                     type_\u001b[38;5;241m=\u001b[39mHttpValidationError,  \u001b[38;5;66;03m# type: ignore\u001b[39;00m\n\u001b[1;32m    131\u001b[0m                     object_\u001b[38;5;241m=\u001b[39m_response\u001b[38;5;241m.\u001b[39mjson(),\n\u001b[1;32m    132\u001b[0m                 ),\n\u001b[1;32m    133\u001b[0m             )\n\u001b[1;32m    134\u001b[0m         )\n\u001b[1;32m    135\u001b[0m     _response_json \u001b[38;5;241m=\u001b[39m _response\u001b[38;5;241m.\u001b[39mjson()\n\u001b[1;32m    136\u001b[0m \u001b[38;5;28;01mexcept\u001b[39;00m JSONDecodeError:\n",
      "\u001b[0;31mUnprocessableEntityError\u001b[0m: status_code: 422, body: detail=[ValidationError(loc=['body'], msg='Input should be a valid dictionary or object to extract fields from', type='model_attributes_type', input=[{'symbol': '\\\\mathrm{NA}', 'name': 'Numerical Aperture', 'value': 0.0, 'units': '', 'tolerance': 0.0}])]"
     ]
    }
   ],
   "source": [
    "response = axtract_helper.validate_equations(user_choice[0], client_db)"
   ]
  },
  {
   "cell_type": "code",
   "execution_count": null,
   "metadata": {},
   "outputs": [],
   "source": []
  }
 ],
 "metadata": {
  "kernelspec": {
   "display_name": "axiomatic",
   "language": "python",
   "name": "python3"
  },
  "language_info": {
   "codemirror_mode": {
    "name": "ipython",
    "version": 3
   },
   "file_extension": ".py",
   "mimetype": "text/x-python",
   "name": "python",
   "nbconvert_exporter": "python",
   "pygments_lexer": "ipython3",
   "version": "3.13.0"
  }
 },
 "nbformat": 4,
 "nbformat_minor": 2
}
